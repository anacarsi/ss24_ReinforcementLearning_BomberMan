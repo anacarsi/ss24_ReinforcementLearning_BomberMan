{
 "cells": [
  {
   "cell_type": "markdown",
   "metadata": {},
   "source": [
    "PROBLEMS \n",
    "1a: agent moving efficiently\n",
    "\n",
    "it would advjnce and go back: adjust reward system"
   ]
  },
  {
   "cell_type": "markdown",
   "metadata": {},
   "source": [
    "1b: agent collects 1 coin efficiently\n",
    "\n",
    "not use shortest path. for this we check with dijkstra if it is getting closer, otherwise we penalize the agent"
   ]
  },
  {
   "cell_type": "markdown",
   "metadata": {},
   "source": [
    "\n",
    "2a agent finds crates\n",
    "\n",
    "2b agent places bomb neart crate\n",
    "\n",
    "2c agent escapes bomb\n",
    "\n",
    "2d agent goes back to collect the coin\n"
   ]
  }
 ],
 "metadata": {
  "kernelspec": {
   "display_name": "ml_homework",
   "language": "python",
   "name": "python3"
  },
  "language_info": {
   "name": "python",
   "version": "3.12.3"
  }
 },
 "nbformat": 4,
 "nbformat_minor": 2
}
