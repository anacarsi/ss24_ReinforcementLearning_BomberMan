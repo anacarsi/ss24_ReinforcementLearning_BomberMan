{
 "cells": [
  {
   "cell_type": "code",
   "execution_count": 71,
   "metadata": {},
   "outputs": [],
   "source": [
    "import numpy as np\n",
    "\n",
    "# A 2D numpy array describing the tiles of the game board. Its entries are 1 for crates, −1 for stone walls and 0 for free tiles.\n",
    "# The board is surrounded by stone walls. \n",
    "ACTIVE_INDICES = np.array(\n",
    "        [\n",
    "            [0, 0, 0, 0, 0, 0, 0, 0, 0, 0, 0, 0, 0, 0, 0, 0],\n",
    "            [0, 1, 1, 1, 1, 1, 1, 1, 1, 1, 1, 1, 1, 1, 1, 0],\n",
    "            [0, 1, 0, 1, 0, 1, 0, 1, 0, 0, 1, 0, 1, 0, 1, 0],\n",
    "            [0, 1, 1, 1, 1, 1, 1, 1, 1, 1, 1, 1, 1, 1, 1, 0],\n",
    "            [0, 1, 0, 1, 0, 1, 0, 1, 0, 0, 1, 0, 1, 0, 1, 0],\n",
    "            [0, 1, 1, 1, 1, 1, 1, 1, 1, 1, 1, 1, 1, 1, 1, 0],\n",
    "            [0, 1, 0, 1, 0, 1, 0, 1, 0, 0, 1, 0, 1, 0, 1, 0],\n",
    "            [0, 1, 1, 1, 1, 1, 1, 1, 1, 1, 1, 1, 1, 1, 1, 0],\n",
    "            [0, 1, 0, 1, 0, 1, 0, 1, 0, 0, 1, 0, 1, 0, 1, 0],\n",
    "            [0, 1, 1, 1, 1, 1, 1, 1, 1, 1, 1, 1, 1, 1, 1, 0],\n",
    "            [0, 1, 0, 1, 0, 1, 0, 1, 0, 0, 1, 0, 1, 0, 1, 0],\n",
    "            [0, 1, 1, 1, 1, 1, 1, 1, 1, 1, 1, 1, 1, 1, 1, 0],\n",
    "            [0, 1, 0, 1, 0, 1, 0, 1, 1, 0, 1, 0, 1, 0, 1, 0],\n",
    "            [0, 1, 0, 1, 0, 1, 0, 1, 1, 0, 1, 0, 1, 0, 1, 0],\n",
    "            [0, 1, 1, 1, 1, 1, 1, 1, 1, 1, 1, 1, 1, 1, 1, 0],\n",
    "            [0, 0, 0, 0, 0, 0, 0, 0, 0, 0, 0, 0, 0, 0, 0, 0],\n",
    "        ],dtype=int\n",
    "    )"
   ]
  },
  {
   "cell_type": "code",
   "execution_count": 72,
   "metadata": {},
   "outputs": [],
   "source": [
    "# put -1 on the walls of active indices\n",
    "ACTIVE_INDICES[0, :] = -1\n",
    "ACTIVE_INDICES[:, 0] = -1\n",
    "ACTIVE_INDICES[-1, :] = -1\n",
    "ACTIVE_INDICES[:, -1] = -1\n",
    "ACTIVE_INDICES[1, 1] = 3\n",
    "ACTIVE_INDICES[15, 14] = 2"
   ]
  },
  {
   "cell_type": "code",
   "execution_count": 73,
   "metadata": {},
   "outputs": [
    {
     "data": {
      "text/plain": [
       "array([[-1, -1, -1, -1, -1, -1, -1, -1, -1, -1, -1, -1, -1, -1, -1, -1],\n",
       "       [-1,  3,  1,  1,  1,  1,  1,  1,  1,  1,  1,  1,  1,  1,  1, -1],\n",
       "       [-1,  1,  0,  1,  0,  1,  0,  1,  0,  0,  1,  0,  1,  0,  1, -1],\n",
       "       [-1,  1,  1,  1,  1,  1,  1,  1,  1,  1,  1,  1,  1,  1,  1, -1],\n",
       "       [-1,  1,  0,  1,  0,  1,  0,  1,  0,  0,  1,  0,  1,  0,  1, -1],\n",
       "       [-1,  1,  1,  1,  1,  1,  1,  1,  1,  1,  1,  1,  1,  1,  1, -1],\n",
       "       [-1,  1,  0,  1,  0,  1,  0,  1,  0,  0,  1,  0,  1,  0,  1, -1],\n",
       "       [-1,  1,  1,  1,  1,  1,  1,  1,  1,  1,  1,  1,  1,  1,  1, -1],\n",
       "       [-1,  1,  0,  1,  0,  1,  0,  1,  0,  0,  1,  0,  1,  0,  1, -1],\n",
       "       [-1,  1,  1,  1,  1,  1,  1,  1,  1,  1,  1,  1,  1,  1,  1, -1],\n",
       "       [-1,  1,  0,  1,  0,  1,  0,  1,  0,  0,  1,  0,  1,  0,  1, -1],\n",
       "       [-1,  1,  1,  1,  1,  1,  1,  1,  1,  1,  1,  1,  1,  1,  1, -1],\n",
       "       [-1,  1,  0,  1,  0,  1,  0,  1,  1,  0,  1,  0,  1,  0,  1, -1],\n",
       "       [-1,  1,  0,  1,  0,  1,  0,  1,  1,  0,  1,  0,  1,  0,  1, -1],\n",
       "       [-1,  1,  1,  1,  1,  1,  1,  1,  1,  1,  1,  1,  1,  1,  1, -1],\n",
       "       [-1, -1, -1, -1, -1, -1, -1, -1, -1, -1, -1, -1, -1, -1,  2, -1]])"
      ]
     },
     "execution_count": 73,
     "metadata": {},
     "output_type": "execute_result"
    }
   ],
   "source": [
    "ACTIVE_INDICES"
   ]
  },
  {
   "cell_type": "code",
   "execution_count": 96,
   "metadata": {},
   "outputs": [
    {
     "name": "stdout",
     "output_type": "stream",
     "text": [
      "distance to top: 5\n",
      "distance to bottom 11\n",
      "distance to left 5\n",
      "distance_to_right 11\n"
     ]
    },
    {
     "data": {
      "text/plain": [
       "(3, 3)"
      ]
     },
     "execution_count": 96,
     "metadata": {},
     "output_type": "execute_result"
    }
   ],
   "source": [
    "def new_coordinate_map(map: np.ndarray, size: int, xp: int, yp: int) -> np.ndarray:\n",
    "    half_size = size // 2\n",
    "    map_data = map.copy()\n",
    "\n",
    "    # Calculate distances to the edges\n",
    "    distance_to_top = yp\n",
    "    print(f\"distance to top: {distance_to_top}\")\n",
    "    distance_to_bottom = map_data.shape[0] - yp\n",
    "    print(f\"distance to bottom {distance_to_bottom}\")\n",
    "    distance_to_left = xp\n",
    "    print(f\"distance to left {distance_to_left}\")\n",
    "    distance_to_right = map_data.shape[1] - xp\n",
    "    print(f\"distance_to_right {distance_to_right}\")\n",
    "\n",
    "\n",
    "    if distance_to_top < 3:\n",
    "        yp_cropped = yp # New agent position will be centered\n",
    "    elif distance_to_top >= 3 and distance_to_top <= 13:\n",
    "        yp_cropped = 3\n",
    "    elif distance_to_top > 13 and distance_to_top <= 16:\n",
    "        yp_cropped = size - distance_to_bottom\n",
    "    else: \n",
    "        raise ValueError(\"Invalid distance\")\n",
    "\n",
    "    if distance_to_left < 3:\n",
    "        xp_cropped = xp\n",
    "    elif distance_to_left >= 3 and distance_to_left <= 13:\n",
    "        xp_cropped = 3\n",
    "    elif distance_to_left > 13 and distance_to_left <= 16:\n",
    "        xp_cropped = size - distance_to_right\n",
    "    else: \n",
    "        raise ValueError(\"Invalid distance\")\n",
    "    \n",
    "\n",
    "\n",
    "    return (xp_cropped, yp_cropped)\n",
    "\n",
    "position = new_coordinate_map(ACTIVE_INDICES, 7, 5, 5)\n",
    "position"
   ]
  },
  {
   "cell_type": "code",
   "execution_count": 36,
   "metadata": {},
   "outputs": [
    {
     "name": "stdout",
     "output_type": "stream",
     "text": [
      "half_size 3\n"
     ]
    },
    {
     "data": {
      "text/plain": [
       "(2, 2)"
      ]
     },
     "execution_count": 36,
     "metadata": {},
     "output_type": "execute_result"
    }
   ],
   "source": [
    "\n",
    "def transform_coordinates_to_vision(field: np.ndarray, player_coords: tuple, global_coords: tuple, size=7) -> tuple:\n",
    "    \"\"\"\n",
    "    Transform the global coordinates of the agent or objects (bombs, coins, explosions)\n",
    "    into the agent's local vision coordinates on the 7x7 map.\n",
    "    \n",
    "    \"\"\"\n",
    "    half_size = size // 2\n",
    "\n",
    "    # Extract agent's position in the global map\n",
    "    xp, yp = player_coords\n",
    "\n",
    "    # Global coordinates of the object (can be agent, bomb, coin, etc.)\n",
    "    xg, yg = global_coords\n",
    "\n",
    "    # Calculate distances of agent to the edges of the global map\n",
    "    distance_to_top = xp\n",
    "    distance_to_bottom = field.shape[0] - 1 - xp\n",
    "    distance_to_left = yp\n",
    "    distance_to_right = field.shape[1] - 1 - yp\n",
    "\n",
    "    # Determine x_start and y_start based on agent's proximity to the edges\n",
    "    if distance_to_top < half_size:\n",
    "        x_start = 0  # Near top edge, vision starts from top of the global field\n",
    "    elif distance_to_bottom < half_size:\n",
    "        x_start = field.shape[0] - size  # Near bottom edge, vision starts from there\n",
    "    else:\n",
    "        x_start = xp - half_size  # Otherwise, the agent is in the center\n",
    "\n",
    "    if distance_to_left < half_size:\n",
    "        y_start = 0  # Near left edge, vision starts from left of the global field\n",
    "    elif distance_to_right < half_size:\n",
    "        y_start = field.shape[1] - size  # Near right edge, vision starts from there\n",
    "    else:\n",
    "        y_start = yp - half_size  # Otherwise, the agent is in the center\n",
    "\n",
    "    # Transform the global coordinates to local coordinates relative to the agent's vision\n",
    "    local_x = xg - x_start\n",
    "    local_y = yg - y_start\n",
    "\n",
    "    # Ensure the transformed coordinates are within the 7x7 bounds\n",
    "    if 0 <= local_x < size and 0 <= local_y < size:\n",
    "        return local_x, local_y\n",
    "    else:\n",
    "        # If out of bounds (e.g., object is outside of agent's 7x7 vision), return None\n",
    "        return None\n",
    "    \n",
    "\n",
    "transform_coordinates_to_vision(ACTIVE_INDICES, (1, 1), (2, 2), 7)\n"
   ]
  },
  {
   "cell_type": "code",
   "execution_count": null,
   "metadata": {},
   "outputs": [],
   "source": [
    "import numpy as np\n",
    "\n",
    "def transform_coordinates_to_vision(game_state: dict, global_coords: tuple, size=7) -> tuple:\n",
    "    \"\"\"\n",
    "    Transform the global coordinates of the agent or objects (bombs, coins, explosions)\n",
    "    into the agent's local vision coordinates on the 7x7 map.\n",
    "    \n",
    "    :param game_state: The current game state containing the global field and the agent's position.\n",
    "    :param global_coords: A tuple of (x, y) representing the global coordinates of the agent or object.\n",
    "    :param size: The size of the agent's vision (default is 7x7).\n",
    "    :return: A tuple of (x, y) representing the coordinates on the agent's local 7x7 vision map.\n",
    "    \"\"\"\n",
    "    half_size = size // 2\n",
    "\n",
    "    # Extract agent's position in the global map\n",
    "    player_coords = game_state[\"self\"][3]\n",
    "    xp, yp = player_coords\n",
    "\n",
    "    # Global coordinates of the object (can be agent, bomb, coin, etc.)\n",
    "    xg, yg = global_coords\n",
    "\n",
    "    # Calculate distances of agent to the edges of the global map\n",
    "    distance_to_top = xp\n",
    "    distance_to_bottom = game_state[\"field\"].shape[0] - 1 - xp\n",
    "    distance_to_left = yp\n",
    "    distance_to_right = game_state[\"field\"].shape[1] - 1 - yp\n",
    "\n",
    "    # Determine x_start and y_start based on agent's proximity to the edges\n",
    "    if distance_to_top < half_size:\n",
    "        x_start = 0  # Near top edge, vision starts from top of the global field\n",
    "    elif distance_to_bottom < half_size:\n",
    "        x_start = game_state[\"field\"].shape[0] - size  # Near bottom edge, vision starts from there\n",
    "    else:\n",
    "        x_start = xp - half_size  # Otherwise, the agent is in the center\n",
    "\n",
    "    if distance_to_left < half_size:\n",
    "        y_start = 0  # Near left edge, vision starts from left of the global field\n",
    "    elif distance_to_right < half_size:\n",
    "        y_start = game_state[\"field\"].shape[1] - size  # Near right edge, vision starts from there\n",
    "    else:\n",
    "        y_start = yp - half_size  # Otherwise, the agent is in the center\n",
    "\n",
    "    # Transform the global coordinates to local coordinates relative to the agent's vision\n",
    "    local_x = xg - x_start\n",
    "    local_y = yg - y_start\n",
    "\n",
    "    # Ensure the transformed coordinates are within the 7x7 bounds\n",
    "    if 0 <= local_x < size and 0 <= local_y < size:\n",
    "        return local_x, local_y\n",
    "    else:\n",
    "        # If out of bounds (e.g., object is outside of agent's 7x7 vision), return None\n",
    "        return None\n",
    "transform_coordinates_to_vision"
   ]
  }
 ],
 "metadata": {
  "kernelspec": {
   "display_name": "mle_env",
   "language": "python",
   "name": "python3"
  },
  "language_info": {
   "codemirror_mode": {
    "name": "ipython",
    "version": 3
   },
   "file_extension": ".py",
   "mimetype": "text/x-python",
   "name": "python",
   "nbconvert_exporter": "python",
   "pygments_lexer": "ipython3",
   "version": "3.11.9"
  }
 },
 "nbformat": 4,
 "nbformat_minor": 2
}
