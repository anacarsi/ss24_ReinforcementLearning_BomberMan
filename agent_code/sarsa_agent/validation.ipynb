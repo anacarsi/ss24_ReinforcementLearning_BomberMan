{
 "cells": [
  {
   "cell_type": "code",
   "execution_count": 1,
   "metadata": {},
   "outputs": [
    {
     "name": "stdout",
     "output_type": "stream",
     "text": [
      "c:\\Users\\anaca\\Documents\\quinto.curso\\mle\\ss24_FinalProject\\ss24_ReinforcementLearning_BomberMan\n"
     ]
    }
   ],
   "source": [
    "import os\n",
    "\n",
    "# Go up two directories from the current notebook location\n",
    "os.chdir(os.path.join(\"..\", \"..\"))\n",
    "\n",
    "# Verify the current working directory is where main.py is\n",
    "print(os.getcwd())  # This should show the folder where main.py is located\n"
   ]
  },
  {
   "cell_type": "code",
   "execution_count": 1,
   "metadata": {},
   "outputs": [],
   "source": [
    "import subprocess\n",
    "import os\n",
    "\n",
    "def train_sarsa_agent(n_rounds=100):\n",
    "    # Change to the directory where main.py is located\n",
    "    os.chdir(os.path.join(\"..\", \"..\"))\n",
    "    \n",
    "    command = [\n",
    "        \"python\", \"main.py\", \"play\",\n",
    "        \"--my-agent\", \"sarsa_agent\",\n",
    "        \"--train\", \"1\",  # Train one agent\n",
    "        \"--n-rounds\", str(n_rounds)\n",
    "    ]\n",
    "    \n",
    "    # Run the command\n",
    "    result = subprocess.run(command, capture_output=True, text=True)\n",
    "    \n",
    "    print(result.stdout)\n",
    "    print(result.stderr)"
   ]
  },
  {
   "cell_type": "code",
   "execution_count": 2,
   "metadata": {},
   "outputs": [
    {
     "name": "stdout",
     "output_type": "stream",
     "text": [
      "c:\\Users\\anaca\\Documents\\quinto.curso\\mle\\ss24_FinalProject\\ss24_ReinforcementLearning_BomberMan\n",
      "\n",
      "\n",
      "  0%|          | 0/100 [00:00<?, ?it/s]\n",
      "  0%|          | 0/100 [00:07<?, ?it/s]\n",
      "\n"
     ]
    }
   ],
   "source": [
    "train_sarsa_agent(n_rounds=100)"
   ]
  },
  {
   "cell_type": "code",
   "execution_count": null,
   "metadata": {},
   "outputs": [],
   "source": []
  }
 ],
 "metadata": {
  "kernelspec": {
   "display_name": "mle_env",
   "language": "python",
   "name": "python3"
  },
  "language_info": {
   "codemirror_mode": {
    "name": "ipython",
    "version": 3
   },
   "file_extension": ".py",
   "mimetype": "text/x-python",
   "name": "python",
   "nbconvert_exporter": "python",
   "pygments_lexer": "ipython3",
   "version": "3.11.9"
  }
 },
 "nbformat": 4,
 "nbformat_minor": 2
}
