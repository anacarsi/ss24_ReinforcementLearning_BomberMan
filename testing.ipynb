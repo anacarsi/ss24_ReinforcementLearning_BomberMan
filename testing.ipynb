{
 "cells": [
  {
   "cell_type": "code",
   "execution_count": 2,
   "metadata": {},
   "outputs": [],
   "source": [
    "import numpy as np\n",
    "import torch\n",
    "import subprocess"
   ]
  },
  {
   "cell_type": "code",
   "execution_count": 3,
   "metadata": {},
   "outputs": [
    {
     "name": "stderr",
     "output_type": "stream",
     "text": [
      "100%|██████████| 100/100 [01:07<00:00,  1.49it/s]\n",
      "100%|██████████| 100/100 [00:56<00:00,  1.76it/s]\n",
      "100%|██████████| 100/100 [01:06<00:00,  1.51it/s]\n",
      "100%|██████████| 100/100 [01:19<00:00,  1.26it/s]\n",
      "100%|██████████| 100/100 [01:28<00:00,  1.13it/s]\n",
      "100%|██████████| 100/100 [01:11<00:00,  1.41it/s]\n"
     ]
    }
   ],
   "source": [
    "# run tests:\n",
    "scenarios = [\"classic\",\"coin-heaven\",\"loot-crate\"]\n",
    "me = \"forth_agent\"\n",
    "command = \"python main.py play --scenario {} --agents {} --n-rounds {} --train 0 --continue-without-training --no-gui --save-stats\"\n",
    "rounds = 100\n",
    "\n",
    "for scenario in scenarios:\n",
    "    agents = f\"{me} rule_based_agent\"\n",
    "    a = subprocess.call(command.format(scenario,agents,rounds).split(\" \"))\n",
    "\n",
    "for scenario in scenarios:\n",
    "    agents = f\"{me} rule_based_agent rule_based_agent rule_based_agent\"\n",
    "    a = subprocess.call(command.format(scenario,agents,rounds).split(\" \"))\n",
    "\n",
    "\n"
   ]
  }
 ],
 "metadata": {
  "kernelspec": {
   "display_name": "ml_homework",
   "language": "python",
   "name": "python3"
  },
  "language_info": {
   "codemirror_mode": {
    "name": "ipython",
    "version": 3
   },
   "file_extension": ".py",
   "mimetype": "text/x-python",
   "name": "python",
   "nbconvert_exporter": "python",
   "pygments_lexer": "ipython3",
   "version": "3.12.3"
  }
 },
 "nbformat": 4,
 "nbformat_minor": 2
}
