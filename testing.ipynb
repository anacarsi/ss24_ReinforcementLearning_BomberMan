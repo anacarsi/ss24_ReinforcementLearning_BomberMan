{
 "cells": [
  {
   "cell_type": "code",
   "execution_count": 2,
   "metadata": {},
   "outputs": [],
   "source": [
    "import numpy as np\n",
    "import torch"
   ]
  },
  {
   "cell_type": "code",
   "execution_count": 2,
   "metadata": {},
   "outputs": [
    {
     "name": "stdout",
     "output_type": "stream",
     "text": [
      "\"python\",\n",
      "\"main.py\",\n",
      "\"play\",\n",
      "\"--scenario\",\n",
      "\"coin-heaven\",\n",
      "\"--agents\",\n",
      "\"first_agent\",\n",
      "\"--n-rounds\",\n",
      "\"10000\",\n",
      "\"--train\",\n",
      "\"1\",\n",
      "\"--no-gui\",\n"
     ]
    }
   ],
   "source": [
    "# split into list\n",
    "inp = \"python main.py play --scenario coin-heaven --agents first_agent --n-rounds 10000 --train 1 --no-gui\"\n",
    "inp = inp.split(\" \")\n",
    "for i in inp:\n",
    "    print('\"'+i+'\",')"
   ]
  },
  {
   "cell_type": "code",
   "execution_count": 3,
   "metadata": {},
   "outputs": [
    {
     "name": "stdout",
     "output_type": "stream",
     "text": [
      "\"play\",\n",
      "\"--scenario\",\n",
      "\"coin-heaven\",\n",
      "\"--agents\",\n",
      "\"first_agent\",\n",
      "\"--n-rounds\",\n",
      "\"1\",\n",
      "\"--train\",\n",
      "\"1\",\n"
     ]
    }
   ],
   "source": [
    "# split into list\n",
    "inp = \"play --scenario coin-heaven --agents first_agent --n-rounds 1 --train 1\"\n",
    "inp = inp.split(\" \")\n",
    "for i in inp:\n",
    "    print('\"'+i+'\",')"
   ]
  },
  {
   "cell_type": "code",
   "execution_count": 70,
   "metadata": {},
   "outputs": [
    {
     "name": "stdout",
     "output_type": "stream",
     "text": [
      "\"play\",\n",
      "\"--scenario\",\n",
      "\"coin-heaven\",\n",
      "\"--agents\",\n",
      "\"first_agent\",\n",
      "\"--n-rounds\",\n",
      "\"10000\",\n",
      "\"--train\",\n",
      "\"1\",\n",
      "\"--no-gui\",\n"
     ]
    }
   ],
   "source": [
    "# split into list\n",
    "inp = \"play --scenario coin-heaven --agents first_agent --n-rounds 10000 --train 1 --no-gui\"\n",
    "inp = inp.split(\" \")\n",
    "for i in inp:\n",
    "    print('\"'+i+'\",')\n"
   ]
  },
  {
   "cell_type": "code",
   "execution_count": 4,
   "metadata": {},
   "outputs": [],
   "source": [
    "\n",
    "empty_field =     np.array(    [\n",
    "            [-1, -1, -1, -1, -1, -1, -1, -1, -1, -1, -1, -1, -1, -1, -1, -1, -1],\n",
    "            [-1, 0, 0, 0, 0, 0, 0, 0, 0, 0, 0, 0, 0, 0, 0, 0, -1],\n",
    "            [-1, 0, -1, 0, -1, 0, -1, 0, -1, 0, -1, 0, -1, 0, -1, 0, -1],\n",
    "            [-1, 0, 0, 0, 0, 0, 0, 0, 0, 0, 0, 0, 0, 0, 0, 0, -1],\n",
    "            [-1, 0, -1, 0, -1, 0, -1, 0, -1, 0, -1, 0, -1, 0, -1, 0, -1],\n",
    "            [-1, 0, 0, 0, 0, 0, 0, 0, 0, 0, 0, 0, 0, 0, 0, 0, -1],\n",
    "            [-1, 0, -1, 0, -1, 0, -1, 0, -1, 0, -1, 0, -1, 0, -1, 0, -1],\n",
    "            [-1, 0, 0, 0, 0, 0, 0, 0, 0, 0, 0, 0, 0, 0, 0, 0, -1],\n",
    "            [-1, 0, -1, 0, -1, 0, -1, 0, -1, 0, -1, 0, -1, 0, -1, 0, -1],\n",
    "            [-1, 0, 0, 0, 0, 0, 0, 0, 0, 0, 0, 0, 0, 0, 0, 0, -1],\n",
    "            [-1, 0, -1, 0, -1, 0, -1, 0, -1, 0, -1, 0, -1, 0, -1, 0, -1],\n",
    "            [-1, 0, 0, 0, 0, 0, 0, 0, 0, 0, 0, 0, 0, 0, 0, 0, -1],\n",
    "            [-1, 0, -1, 0, -1, 0, -1, 0, -1, 0, -1, 0, -1, 0, -1, 0, -1],\n",
    "            [-1, 0, 0, 0, 0, 0, 0, 0, 0, 0, 0, 0, 0, 0, 0, 0, -1],\n",
    "            [-1, 0, -1, 0, -1, 0, -1, 0, -1, 0, -1, 0, -1, 0, -1, 0, -1],\n",
    "            [-1, 0, 0, 0, 0, 0, 0, 0, 0, 0, 0, 0, 0, 0, 0, 0, -1],\n",
    "            [-1, -1, -1, -1, -1, -1, -1, -1, -1, -1, -1, -1, -1, -1, -1, -1, -1],\n",
    "        ])"
   ]
  },
  {
   "cell_type": "code",
   "execution_count": 7,
   "metadata": {},
   "outputs": [
    {
     "name": "stdout",
     "output_type": "stream",
     "text": [
      "[[0 0 0 0 0 0 0 0 0 0 0 0 0 0 0 0 0]\n",
      " [0 1 1 1 1 1 1 1 1 1 1 1 1 1 1 1 0]\n",
      " [0 1 0 1 0 1 0 1 0 1 0 1 0 1 0 1 0]\n",
      " [0 1 1 1 1 1 1 1 1 1 1 1 1 1 1 1 0]\n",
      " [0 1 0 1 0 1 0 1 0 1 0 1 0 1 0 1 0]\n",
      " [0 1 1 1 1 1 1 1 1 1 1 1 1 1 1 1 0]\n",
      " [0 1 0 1 0 1 0 1 0 1 0 1 0 1 0 1 0]\n",
      " [0 1 1 1 1 1 1 1 1 1 1 1 1 1 1 1 0]\n",
      " [0 1 0 1 0 1 0 1 0 1 0 1 0 1 0 1 0]\n",
      " [0 1 1 1 1 1 1 1 1 1 1 1 1 1 1 1 0]\n",
      " [0 1 0 1 0 1 0 1 0 1 0 1 0 1 0 1 0]\n",
      " [0 1 1 1 1 1 1 1 1 1 1 1 1 1 1 1 0]\n",
      " [0 1 0 1 0 1 0 1 0 1 0 1 0 1 0 1 0]\n",
      " [0 1 1 1 1 1 1 1 1 1 1 1 1 1 1 1 0]\n",
      " [0 1 0 1 0 1 0 1 0 1 0 1 0 1 0 1 0]\n",
      " [0 1 1 1 1 1 1 1 1 1 1 1 1 1 1 1 0]\n",
      " [0 0 0 0 0 0 0 0 0 0 0 0 0 0 0 0 0]]\n",
      "176\n",
      "[[False False False False False False False False False False False False\n",
      "  False False False False False]\n",
      " [False  True  True  True  True  True  True  True  True  True  True  True\n",
      "   True  True  True  True False]\n",
      " [False  True False  True False  True False  True False  True False  True\n",
      "  False  True False  True False]\n",
      " [False  True  True  True  True  True  True  True  True  True  True  True\n",
      "   True  True  True  True False]\n",
      " [False  True False  True False  True False  True False  True False  True\n",
      "  False  True False  True False]\n",
      " [False  True  True  True  True  True  True  True  True  True  True  True\n",
      "   True  True  True  True False]\n",
      " [False  True False  True False  True False  True False  True False  True\n",
      "  False  True False  True False]\n",
      " [False  True  True  True  True  True  True  True  True  True  True  True\n",
      "   True  True  True  True False]\n",
      " [False  True False  True False  True False  True False  True False  True\n",
      "  False  True False  True False]\n",
      " [False  True  True  True  True  True  True  True  True  True  True  True\n",
      "   True  True  True  True False]\n",
      " [False  True False  True False  True False  True False  True False  True\n",
      "  False  True False  True False]\n",
      " [False  True  True  True  True  True  True  True  True  True  True  True\n",
      "   True  True  True  True False]\n",
      " [False  True False  True False  True False  True False  True False  True\n",
      "  False  True False  True False]\n",
      " [False  True  True  True  True  True  True  True  True  True  True  True\n",
      "   True  True  True  True False]\n",
      " [False  True False  True False  True False  True False  True False  True\n",
      "  False  True False  True False]\n",
      " [False  True  True  True  True  True  True  True  True  True  True  True\n",
      "   True  True  True  True False]\n",
      " [False False False False False False False False False False False False\n",
      "  False False False False False]]\n"
     ]
    }
   ],
   "source": [
    "active_indices = empty_field == 0\n",
    "print(active_indices.astype(int))\n",
    "print(active_indices.sum())\n",
    "print(active_indices)"
   ]
  },
  {
   "cell_type": "code",
   "execution_count": 9,
   "metadata": {},
   "outputs": [
    {
     "data": {
      "text/plain": [
       "(17, 17, 17)"
      ]
     },
     "execution_count": 9,
     "metadata": {},
     "output_type": "execute_result"
    }
   ],
   "source": [
    "empty_field[active_indices.astype(int)].shape"
   ]
  },
  {
   "cell_type": "code",
   "execution_count": 6,
   "metadata": {},
   "outputs": [
    {
     "data": {
      "text/plain": [
       "array([ 3,  4, -1, -1, -1, -1, -1, -1])"
      ]
     },
     "execution_count": 6,
     "metadata": {},
     "output_type": "execute_result"
    }
   ],
   "source": [
    "# can we assign tubles into arrays?\n",
    "a=np.full((8,),-1)\n",
    "a[0:2] = (3,4)\n",
    "a\n",
    "# YES!"
   ]
  },
  {
   "cell_type": "code",
   "execution_count": 1,
   "metadata": {},
   "outputs": [
    {
     "data": {
      "text/plain": [
       "deque([3, 4, 5, 6, 7], maxlen=5)"
      ]
     },
     "execution_count": 1,
     "metadata": {},
     "output_type": "execute_result"
    }
   ],
   "source": [
    "# testing out deque behavior\n",
    "from collections import deque\n",
    "\n",
    "q= deque(maxlen=5)\n",
    "for i in range(8):\n",
    "    q.append(i)\n",
    "q"
   ]
  },
  {
   "cell_type": "code",
   "execution_count": null,
   "metadata": {},
   "outputs": [],
   "source": [
    "#  this list:ACTIONS = [\"UP\", \"RIGHT\", \"DOWN\", \"LEFT\", \"WAIT\", \"BOMB\"]"
   ]
  },
  {
   "cell_type": "code",
   "execution_count": 69,
   "metadata": {},
   "outputs": [
    {
     "name": "stdout",
     "output_type": "stream",
     "text": [
      "tensor([[ 0.,  1.,  2.],\n",
      "        [ 3.,  4.,  5.],\n",
      "        [ 6.,  7.,  8.],\n",
      "        [ 9., 10., 11.]])\n",
      "tensor([[ 0.,  1.,  2.],\n",
      "        [nan, nan, nan],\n",
      "        [ 6.,  7.,  8.],\n",
      "        [ 9., 10., 11.]])\n"
     ]
    },
    {
     "data": {
      "text/plain": [
       "tensor([ 2., nan,  8., 11.])"
      ]
     },
     "execution_count": 69,
     "metadata": {},
     "output_type": "execute_result"
    }
   ],
   "source": [
    "import torch\n",
    "a=torch.tensor(range(12),dtype=torch.float32).reshape((4,3))\n",
    "print(a)\n",
    "a[1]=torch.full((3,),torch.nan)\n",
    "print(a)\n",
    "\n",
    "b = torch.tensor([2,1,0,1])\n",
    "c = a.gather(1,b.unsqueeze(1))\n",
    "c\n",
    "\n",
    "a.max(dim=1,).values"
   ]
  },
  {
   "cell_type": "code",
   "execution_count": null,
   "metadata": {},
   "outputs": [],
   "source": []
  },
  {
   "cell_type": "code",
   "execution_count": 6,
   "metadata": {},
   "outputs": [
    {
     "data": {
      "text/plain": [
       "tensor([0.])"
      ]
     },
     "execution_count": 6,
     "metadata": {},
     "output_type": "execute_result"
    }
   ],
   "source": [
    "torch.tensor([(torch.nan * 0)]) .nan_to_num(0.0)"
   ]
  }
 ],
 "metadata": {
  "kernelspec": {
   "display_name": "ml_homework",
   "language": "python",
   "name": "python3"
  },
  "language_info": {
   "codemirror_mode": {
    "name": "ipython",
    "version": 3
   },
   "file_extension": ".py",
   "mimetype": "text/x-python",
   "name": "python",
   "nbconvert_exporter": "python",
   "pygments_lexer": "ipython3",
   "version": "3.12.3"
  }
 },
 "nbformat": 4,
 "nbformat_minor": 2
}
