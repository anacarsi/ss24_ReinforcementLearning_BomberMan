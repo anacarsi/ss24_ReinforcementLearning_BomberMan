{
  "cells": [
    {
      "cell_type": "markdown",
      "metadata": {},
      "source": [
        "- [ ] Symmetry exploitation\n",
        "- [ ] Code augmentation\n",
        "- [ ] Sample obtention\n",
        "*************************"
      ]
    },
    {
      "cell_type": "markdown",
      "metadata": {},
      "source": [
        "## Define the Environment\n",
        "The environment consists of **states**, **actions**, and **rewards**. States and actions are inputs for the Q-learning AI agent, while the possible actions are the AI agent's outputs.\n",
        "#### States\n",
        "The states in the environment are all of the possible locations within the 17x17 field. \n"
      ]
    },
    {
      "cell_type": "markdown",
      "metadata": {},
      "source": [
        "**Q-Learning - Exploiting rotational and mirror symmetries**"
      ]
    },
    {
      "cell_type": "markdown",
      "metadata": {},
      "source": [
        "> The game board looks the same if we rotate it by 90, 180, or 270 degrees, and when flipped horizontally or vertically. \n",
        "> \n",
        "> > Thus, if an optimal move is to go \"up\" in one state configuration, it might be optimal to go \"right\" in a state that is rotated 90 degrees.\n",
        "\n",
        "\n",
        "> >\n",
        ">\n",
        "\n",
        "\n"
      ]
    },
    {
      "cell_type": "markdown",
      "metadata": {},
      "source": [
        "This helps reduce the `q_table.size()` and provides better generalization of the agent from fewer samples. We will use this to create more training samples, making learning more robust."
      ]
    },
    {
      "cell_type": "markdown",
      "metadata": {},
      "source": [
        "**_A. Defining the transformations_**"
      ]
    },
    {
      "cell_type": "code",
      "execution_count": 1,
      "metadata": {},
      "outputs": [],
      "source": [
        "import numpy as np"
      ]
    },
    {
      "cell_type": "code",
      "execution_count": 2,
      "metadata": {},
      "outputs": [],
      "source": [
        "def rotate_arena(field: np.ndarray, angle: int) -> np.ndarray:\n",
        "    \"\"\"\n",
        "    Rotate the field by the given angle (must be a multiple of 90 degrees).\n",
        "\n",
        "    :param field: The 2D numpy array representing the game field.\n",
        "    :param angle: The angle to rotate (must be one of 90, 180, 270).\n",
        "    :return: The rotated game field.\n",
        "    \"\"\"\n",
        "    # Check if angle is a multiple of 90\n",
        "    if angle % 90 != 0:\n",
        "        raise ValueError(\"Angle must be a multiple of 90 degrees\")\n",
        "    else:\n",
        "        k = angle // 90\n",
        "        return np.rot90(field, k)\n"
      ]
    },
    {
      "cell_type": "code",
      "execution_count": 45,
      "metadata": {},
      "outputs": [],
      "source": [
        "def rotate_positions(positions: list, angle: int, field_shape: tuple) -> list:\n",
        "    \"\"\"\n",
        "    Rotate the positions of coins by the specified angle.\n",
        "    \n",
        "    :param positions: A dictionary of coin positions where keys are coin IDs and values are (x, y) tuples.\n",
        "    :param angle: The angle to rotate (must be one of 90, 180, 270).\n",
        "    :param field_shape: The shape of the field (ROWS, COLS).\n",
        "    :return: A dictionary of rotated positions.\n",
        "    \"\"\"\n",
        "    rows, cols = field_shape\n",
        "    \n",
        "    if angle == 90:\n",
        "        rotated_positions = [(y, cols - 1 - x) for (x, y) in positions]\n",
        "    elif angle == 180:\n",
        "        rotated_positions = [(rows - 1 - x, cols - 1 - y) for (x, y) in positions]\n",
        "    elif angle == 270:\n",
        "        rotated_positions = [(rows - 1 - y, x) for (x, y) in positions]\n",
        "    else:\n",
        "        raise ValueError(\"Angle must be 90, 180, or 270 degrees.\")\n",
        "    \n",
        "    return rotated_positions\n"
      ]
    },
    {
      "cell_type": "code",
      "execution_count": 4,
      "metadata": {},
      "outputs": [],
      "source": [
        "def flip_arena(field: np.ndarray, direction: str) -> np.ndarray:\n",
        "    \"\"\"\n",
        "    Flip the game field (arena) horizontally or vertically.\n",
        "    \n",
        "    :param field: The 2D numpy array representing the game field.\n",
        "    :param direction: The direction to flip ('horizontal' or 'vertical').\n",
        "    :return: The flipped game field.\n",
        "    \"\"\"\n",
        "    \n",
        "    if direction == 'horizontal':\n",
        "        return np.flip(field, 1)\n",
        "    elif direction == 'vertical':\n",
        "        return np.flip(field, 0)\n",
        "    else:\n",
        "        raise ValueError(\"Direction must be either 'horizontal' or 'vertical'.\")\n"
      ]
    },
    {
      "cell_type": "code",
      "execution_count": 46,
      "metadata": {},
      "outputs": [],
      "source": [
        "def flip_positions(positions: list, direction: str, field_shape: tuple) -> list:\n",
        "    \"\"\"\n",
        "    Rotate the positions of coins by the specified angle.\n",
        "    \n",
        "    :param positions: A dictionary of coin positions where keys are coin IDs and values are (x, y) tuples.\n",
        "    :param direction: The direction to flip ('horizontal' or 'vertical').\n",
        "    :param field_shape: The shape of the field (ROWS, COLS).\n",
        "    :return: A dictionary of flipped positions.\n",
        "    \"\"\"\n",
        "    flipped_positions = []\n",
        "    rows, cols = field_shape\n",
        "    \n",
        "    if direction == 'horizontal':\n",
        "        flipped_positions = [(x, cols - 1 - y) for (x, y) in positions]\n",
        "    elif direction == 'vertical':\n",
        "        flipped_positions = [(rows - 1 - x, y) for (x, y) in positions]\n",
        "        \n",
        "    else:\n",
        "        raise ValueError(\"Direction must be either 'horizontal' or 'vertical'.\")\n",
        "\n",
        "    return flipped_positions\n",
        "    \n"
      ]
    },
    {
      "cell_type": "code",
      "execution_count": 6,
      "metadata": {},
      "outputs": [
        {
          "name": "stdout",
          "output_type": "stream",
          "text": [
            "pygame 2.6.0 (SDL 2.28.4, Python 3.11.9)\n",
            "Hello from the pygame community. https://www.pygame.org/contribute.html\n"
          ]
        }
      ],
      "source": [
        "import pygame \n",
        "from items import Item\n",
        "import numpy as np\n",
        "import matplotlib.pyplot as plt\n",
        "import settings as Settings\n",
        "\n",
        "class Coin(Item):\n",
        "    avatar = pygame.image.load(Settings.ASSET_DIR / 'coin.png')\n",
        "\n",
        "    def __init__(self, pos, collectable=False):\n",
        "        super(Coin, self).__init__()\n",
        "        self.x = pos[0]\n",
        "        self.y = pos[1]\n",
        "        self.collectable = collectable\n",
        "\n",
        "    def get_state(self):\n",
        "        return self.x, self.y\n"
      ]
    },
    {
      "cell_type": "code",
      "execution_count": 47,
      "metadata": {},
      "outputs": [],
      "source": [
        "# Define a simple game world class to render the board\n",
        "import numpy as np\n",
        "from numpy import random\n",
        "\n",
        "class SimpleBombRLWorld:\n",
        "    def __init__(self):\n",
        "        self.rng = np.random.default_rng()\n",
        "        self.arena, self.coin_positions, self.crate_positions = self.build_arena()\n",
        "        \n",
        "    def build_arena(self):\n",
        "        WALL = -1\n",
        "        FREE = 0\n",
        "        CRATE = 1\n",
        "        CRATE_DENSITY = 0.75\n",
        "        arena = np.zeros((Settings.COLS, Settings.ROWS), int)\n",
        "\n",
        "        # Crates in random locations\n",
        "        arena[self.rng.random((Settings.COLS, Settings.ROWS)) < CRATE_DENSITY] = CRATE\n",
        "\n",
        "        # Walls\n",
        "        arena[:1, :] = WALL\n",
        "        arena[-1:, :] = WALL\n",
        "        arena[:, :1] = WALL\n",
        "        arena[:, -1:] = WALL\n",
        "        for x in range(Settings.COLS):\n",
        "            for y in range(Settings.ROWS):\n",
        "                if (x + 1) * (y + 1) % 2 == 1:\n",
        "                    arena[x, y] = WALL\n",
        "\n",
        "        # Clean the start positions\n",
        "        start_positions = [(1, 1), (1, Settings.ROWS - 2), (Settings.COLS - 2, 1), (Settings.COLS - 2, Settings.ROWS - 2)]\n",
        "        for (x, y) in start_positions:\n",
        "            for (xx, yy) in [(x, y), (x - 1, y), (x + 1, y), (x, y - 1), (x, y + 1)]:\n",
        "                if arena[xx, yy] == 1:\n",
        "                    arena[xx, yy] = FREE\n",
        "\n",
        "        # Place coins at random, at preference under crates\n",
        "        coins = []\n",
        "        all_positions = np.stack(np.meshgrid(np.arange(Settings.COLS), np.arange(Settings.ROWS), indexing=\"ij\"), -1)\n",
        "        crate_positions = self.rng.permutation(all_positions[arena == CRATE])\n",
        "        free_positions = self.rng.permutation(all_positions[arena == FREE])\n",
        "        coin_positions = np.concatenate([\n",
        "            crate_positions,\n",
        "            free_positions\n",
        "        ], 0)[:50]\n",
        "        for x, y in coin_positions:\n",
        "            coins.append(Coin((x, y), collectable=arena[x, y] == FREE))\n",
        "    \n",
        "        return arena, coin_positions, crate_positions\n",
        "\n",
        "    def rotate(self, angle: int):\n",
        "        if angle not in [90, 180, 270]:\n",
        "            raise ValueError(\"Angle must be one of 90, 180, 270.\")\n",
        "        \n",
        "        self.arena = rotate_arena(self.arena, angle)\n",
        "        self.coin_positions = rotate_positions(self.coin_positions, angle, self.arena.shape)\n",
        "        self.crate_positions = rotate_positions(self.crate_positions, angle, self.arena.shape)\n",
        "\n",
        "    def get_state(self):\n",
        "        return self.arena, self.coin_positions, self.crate_positions\n",
        "\n"
      ]
    },
    {
      "cell_type": "code",
      "execution_count": 48,
      "metadata": {},
      "outputs": [],
      "source": [
        "# Define a simple game renderer class to render the board\n",
        "class GameRenderer:\n",
        "    def __init__(self, world):\n",
        "        self.world = world\n",
        "        pygame.init()\n",
        "        \n",
        "        # Calculate the size of the board based on grid size and offsets\n",
        "        board_width = Settings.GRID_SIZE * Settings.COLS\n",
        "        board_height = Settings.GRID_SIZE * Settings.ROWS\n",
        "        \n",
        "        # Set the Pygame window size to match the board size\n",
        "        self.screen = pygame.display.set_mode((board_width, board_height))\n",
        "        pygame.display.set_caption('BombeRLe Board Renderer')\n",
        "\n",
        "        # Colors\n",
        "        self.bg_color = (255, 182, 193)  # Background color for the board only\n",
        "        self.wall_color = (255, 105, 180) \n",
        "        self.crate_color = (255, 192, 203)  \n",
        "        self.coin_color = (255, 215, 0)  \n",
        "        self.coin_text_color = (0, 0, 0) \n",
        "\n",
        "        # Create surfaces for rendering tiles\n",
        "        self.t_wall = pygame.Surface((Settings.GRID_SIZE, Settings.GRID_SIZE))\n",
        "        self.t_wall.fill(self.wall_color)\n",
        "        self.t_crate = pygame.Surface((Settings.GRID_SIZE, Settings.GRID_SIZE))\n",
        "        self.t_crate.fill(self.crate_color)\n",
        "        self.t_coin = pygame.Surface((Settings.GRID_SIZE, Settings.GRID_SIZE))\n",
        "        self.t_coin.fill(self.coin_color)\n",
        "\n",
        "    def render(self):\n",
        "        # Fill the board area with the background color\n",
        "        self.screen.fill((0, 0, 0))  # Fill the entire screen with black\n",
        "        pygame.draw.rect(self.screen, self.bg_color, (0, 0, self.screen.get_width(), self.screen.get_height()))\n",
        "\n",
        "        arena, coins, crates = self.world.get_state()\n",
        "        \n",
        "        # Draw arena (walls and crates)\n",
        "        for x in range(arena.shape[1]):\n",
        "            for y in range(arena.shape[0]):\n",
        "                if arena[x, y] == -1:\n",
        "                    self.screen.blit(self.t_wall, (Settings.GRID_SIZE * x, Settings.GRID_SIZE * y))\n",
        "                elif arena[x, y] == 1:\n",
        "                    self.screen.blit(self.t_crate, (Settings.GRID_SIZE * x, Settings.GRID_SIZE * y))\n",
        "\n",
        "        # Draw crates\n",
        "        for (x, y) in crates:\n",
        "            self.screen.blit(self.t_crate, (Settings.GRID_SIZE * x, Settings.GRID_SIZE * y))\n",
        "\n",
        "        # Draw coins\n",
        "        for i, (x, y) in enumerate(coins):\n",
        "            self.screen.blit(self.t_coin, (Settings.GRID_SIZE * x, Settings.GRID_SIZE * y))\n",
        "            # Draw coin number\n",
        "            font = pygame.font.Font(None, 15)\n",
        "            text = font.render(str(i), True, self.coin_text_color)\n",
        "            self.screen.blit(text, (Settings.GRID_SIZE * x + 5, Settings.GRID_SIZE * y + 5))\n",
        "        \n",
        "        # Draw grid lines (adjusted to match the board)\n",
        "        grid_color = (255, 105, 180)  # Hot pink grid lines\n",
        "        \n",
        "        # Draw vertical grid lines\n",
        "        for x in range(Settings.COLS + 1):\n",
        "            pygame.draw.line(\n",
        "                self.screen, grid_color, \n",
        "                (x * Settings.GRID_SIZE, 0), \n",
        "                (x * Settings.GRID_SIZE, Settings.ROWS * Settings.GRID_SIZE), 1\n",
        "            )\n",
        "        # Draw horizontal grid lines\n",
        "        for y in range(Settings.ROWS + 1):\n",
        "            pygame.draw.line(\n",
        "                self.screen, grid_color, \n",
        "                (0, y * Settings.GRID_SIZE), \n",
        "                (Settings.COLS * Settings.GRID_SIZE, y * Settings.GRID_SIZE), 1\n",
        "            )\n",
        "\n",
        "        pygame.display.flip()\n"
      ]
    },
    {
      "cell_type": "code",
      "execution_count": 49,
      "metadata": {},
      "outputs": [
        {
          "data": {
            "image/png": "[encoded data removed]",
            "text/plain": [
              "<Figure size 1000x600 with 1 Axes>"
            ]
          },
          "metadata": {},
          "output_type": "display_data"
        }
      ],
      "source": [
        "world = SimpleBombRLWorld()\n",
        "renderer = GameRenderer(world)\n",
        "\n",
        "# Render the board\n",
        "renderer.render()\n",
        "\n",
        "# Display the result in the Jupyter Notebook\n",
        "def pygame_to_matplotlib():\n",
        "    pygame.display.flip()\n",
        "    data = pygame.surfarray.array3d(renderer.screen)\n",
        "    plt.figure(figsize=(Settings.WIDTH / 100, Settings.HEIGHT / 100), dpi=100)\n",
        "    plt.imshow(data.swapaxes(0, 1))\n",
        "    plt.axis('off')\n",
        "    \n",
        "    # Add axes with lines (1, 0) blue and (0, 1) purple\n",
        "    ax = plt.gca()\n",
        "    ax.axhline(y=0, color='blue', linestyle='-', linewidth=2)\n",
        "    ax.axvline(x=0, color='purple', linestyle='-', linewidth=2)\n",
        "\n",
        "    plt.show()\n",
        "\n",
        "pygame_to_matplotlib()\n",
        "\n",
        "# Clean up\n",
        "pygame.quit()"
      ]
    },
    {
      "cell_type": "code",
      "execution_count": 52,
      "metadata": {},
      "outputs": [
        {
          "data": {
            "image/png": "[encoded data removed]",
            "text/plain": [
              "<Figure size 1000x600 with 1 Axes>"
            ]
          },
          "metadata": {},
          "output_type": "display_data"
        }
      ],
      "source": [
        "print(world.crate_positions)\n",
        "renderer = GameRenderer(world)\n",
        "renderer.render()\n",
        "\n",
        "pygame_to_matplotlib()\n",
        "\n",
        "# Clean up\n",
        "pygame.quit()"
      ]
    },
    {
      "cell_type": "markdown",
      "metadata": {},
      "source": [
        "**_B. Normalizing states_**"
      ]
    },
    {
      "cell_type": "markdown",
      "metadata": {},
      "source": [
        "We generate all rotated (90°, 180°, 270°) and reflected versions of the state. Then, we choose a Canonical State: for example, the lexicographically smallest or largest state representation could serve as the canonical form.\n",
        "That way we store only the Canonical State in the Q-Table: whenever a new state is encountered during training or gameplay, it is first converted to its canonical form before being stored or queried in the Q-table. This ensures all equivalent states map to the same entry."
      ]
    },
    {
      "cell_type": "code",
      "execution_count": 53,
      "metadata": {},
      "outputs": [],
      "source": [
        "import hashlib\n",
        "\n",
        "class StateHasher:\n",
        "    def __init__(self):\n",
        "        self.state_cache = {}  # Dictionary to store unique states and their canonical forms\n",
        "\n",
        "    def serialize_state(self, arena, coins, agents, bombs, explosions):\n",
        "        \"\"\"\n",
        "        Serializes the game state components into a unique string representation.\n",
        "        \"\"\"\n",
        "        # Serialize arena as a flattened string\n",
        "        arena_str = np.array2string(arena.flatten(), separator=',')\n",
        "        \n",
        "        # Serialize coins as a sorted tuple of positions\n",
        "        coins_str = ','.join(f\"({x},{y})\" for x, y in sorted(coins))\n",
        "        \n",
        "        # Serialize agents (simplified to positions for now, can add more details as needed)\n",
        "        agents_str = ','.join(f\"({a.x},{a.y})\" for a in sorted(agents, key=lambda a: (a.x, a.y)))\n",
        "        \n",
        "        # Serialize bombs as positions and timers\n",
        "        bombs_str = ','.join(f\"({b.x},{b.y},{b.timer})\" for b in sorted(bombs, key=lambda b: (b.x, b.y, b.timer)))\n",
        "        \n",
        "        # Serialize explosions as positions and timers\n",
        "        explosions_str = ','.join(f\"({x},{y},{timer})\" for x, y, timer in sorted(explosions, key=lambda e: (e[0], e[1], e[2])))\n",
        "        \n",
        "        # Combine all serialized parts into a single string\n",
        "        state_str = f\"{arena_str}|{coins_str}|{agents_str}|{bombs_str}|{explosions_str}\"\n",
        "        \n",
        "        return state_str\n",
        "\n",
        "    def hash_state(self, state_str):\n",
        "        \"\"\"\n",
        "        Generates a unique hash for a serialized state string.\n",
        "        \"\"\"\n",
        "        return hashlib.sha256(state_str.encode('utf-8')).hexdigest()\n",
        "\n",
        "    def get_canonical_state(self, state):\n",
        "        \"\"\"\n",
        "        Checks if a state or its canonical form already exists.\n",
        "        If not, it computes and stores the canonical form.\n",
        "        \"\"\"\n",
        "        # Extract components from the state\n",
        "        arena = state['field']\n",
        "        coins = [(coin.x, coin.y) for coin in state['coins']]\n",
        "        agents = state['others']  # This would be a list of agent objects\n",
        "        bombs = state['bombs']  # List of bomb objects with position and timer\n",
        "        explosions = [(x, y, timer) for x, y, timer in state['explosion_map']]  # explosion_map could be a list of coordinates with timers\n",
        "        \n",
        "        # Serialize the state\n",
        "        serialized_state = self.serialize_state(arena, coins, agents, bombs, explosions)\n",
        "        \n",
        "        # Get the hash of the serialized state\n",
        "        state_hash = self.hash_state(serialized_state)\n",
        "        \n",
        "        # Check if the state already exists in the cache\n",
        "        if state_hash in self.state_cache:\n",
        "            return self.state_cache[state_hash]  # Return the cached canonical state\n",
        "        \n",
        "        # Compute the canonical state if it does not exist\n",
        "        canonical_state = self.compute_canonical_state(state)  # This would involve applying all rotations and symmetries\n",
        "        \n",
        "        # Serialize and hash the canonical state\n",
        "        serialized_canonical_state = self.serialize_state(\n",
        "            canonical_state['field'], \n",
        "            [(coin.x, coin.y) for coin in canonical_state['coins']], \n",
        "            canonical_state['others'], \n",
        "            canonical_state['bombs'], \n",
        "            [(x, y, timer) for x, y, timer in canonical_state['explosion_map']]\n",
        "        )\n",
        "        canonical_hash = self.hash_state(serialized_canonical_state)\n",
        "        \n",
        "        # Cache the canonical form\n",
        "        self.state_cache[state_hash] = canonical_hash\n",
        "        self.state_cache[canonical_hash] = canonical_state\n",
        "        \n",
        "        return canonical_state\n",
        "\n",
        "    def compute_canonical_state(self, state):\n",
        "        \"\"\"\n",
        "        Computes the canonical form of the state by considering all possible symmetries (rotations and reflections).\n",
        "        \"\"\"\n",
        "        # Placeholder: Implement the logic to generate all rotations and reflections and pick the canonical form\n",
        "        # Could use a lexicographic minimum or some other rule to choose the canonical form\n",
        "        return state  # For now, we return the state unchanged\n",
        "\n",
        "\n"
      ]
    },
    {
      "cell_type": "code",
      "execution_count": null,
      "metadata": {},
      "outputs": [],
      "source": [
        "# Example usage:\n",
        "state_hasher = StateHasher()\n",
        "arena = world.arena\n",
        "coins = world.coin_positions\n",
        "agents = []  # Placeholder list of agents\n",
        "bombs = []  # Placeholder list of bombs\n",
        "explosions = []  # Placeholder list of explosions\n",
        "\n",
        "# Mock state example\n",
        "mock_state = {\n",
        "    'field': arena,\n",
        "    'coins': coins,\n",
        "    'others': agents,\n",
        "    'bombs': bombs,\n",
        "    'explosion_map': explosions\n",
        "}\n",
        "\n",
        "# Get canonical state\n",
        "canonical_state = state_hasher.get_canonical_state(mock_state)\n",
        "print(\"Canonical State:\", canonical_state)"
      ]
    },
    {
      "cell_type": "markdown",
      "metadata": {},
      "source": [
        "**__C. Canonical form in the Q_Table__**"
      ]
    },
    {
      "cell_type": "markdown",
      "metadata": {},
      "source": [
        "-------"
      ]
    },
    {
      "cell_type": "code",
      "execution_count": null,
      "metadata": {
        "id": "rfdhGGMsw1H7"
      },
      "outputs": [],
      "source": [
        "import numpy as np\n",
        "import networkx as nx\n",
        "import events as e\n",
        "from json import dump as json_dump\n",
        "from pickle import dump as pickle_dump\n",
        "from typing import List, Dict, Tuple"
      ]
    },
    {
      "cell_type": "code",
      "execution_count": 11,
      "metadata": {},
      "outputs": [
        {
          "ename": "TypeError",
          "evalue": "setup() missing 1 required positional argument: 'self'",
          "output_type": "error",
          "traceback": [
            "\u001b[1;31m---------------------------------------------------------------------------\u001b[0m",
            "\u001b[1;31mTypeError\u001b[0m                                 Traceback (most recent call last)",
            "Cell \u001b[1;32mIn[11], line 9\u001b[0m\n\u001b[0;32m      5\u001b[0m sys\u001b[38;5;241m.\u001b[39mpath\u001b[38;5;241m.\u001b[39mappend(os\u001b[38;5;241m.\u001b[39mpath\u001b[38;5;241m.\u001b[39mabspath(os\u001b[38;5;241m.\u001b[39mpath\u001b[38;5;241m.\u001b[39mjoin(\u001b[38;5;124m'\u001b[39m\u001b[38;5;124magent_code\u001b[39m\u001b[38;5;124m'\u001b[39m)))\n\u001b[0;32m      7\u001b[0m \u001b[38;5;28;01mfrom\u001b[39;00m \u001b[38;5;21;01mmy_agent\u001b[39;00m\u001b[38;5;21;01m.\u001b[39;00m\u001b[38;5;21;01mcallbacks\u001b[39;00m \u001b[38;5;28;01mimport\u001b[39;00m state_to_features, act, setup\n\u001b[1;32m----> 9\u001b[0m setup()\n",
            "\u001b[1;31mTypeError\u001b[0m: setup() missing 1 required positional argument: 'self'"
          ]
        }
      ],
      "source": [
        "import sys\n",
        "import os\n",
        "\n",
        "# Add the path to the 'agents' folder\n",
        "sys.path.append(os.path.abspath(os.path.join('agent_code')))\n",
        "\n",
        "from my_agent.callbacks import state_to_features, act, setup\n"
      ]
    },
    {
      "cell_type": "code",
      "execution_count": null,
      "metadata": {},
      "outputs": [],
      "source": [
        "# Training parameters\n",
        "num_episodes = 1000  # Number of games to play\n",
        "max_steps_per_episode = 100  # Maximum steps per game/episode\n",
        "\n",
        "# Initialize the model\n",
        "setup()\n",
        "\n",
        "for episode in range(num_episodes):\n",
        "    game_state = initialize_game()  # Reset the game environment at the start of each episode\n",
        "    state = c.state_to_features(game_state)\n",
        "    \n",
        "    for step in range(max_steps_per_episode):\n",
        "        # Choose action\n",
        "        action = c.choose_action(state, q_table, epsilon)\n",
        "        \n",
        "        # Perform the action in the environment (get new state and events)\n",
        "        new_game_state, events = c.act(game_state, action)\n",
        "        next_state = c.state_to_features(new_game_state)\n",
        "        \n",
        "        # Get the reward\n",
        "        reward = reward_from_events(events)\n",
        "        \n",
        "        # Update the Q-table\n",
        "        t.update_q_table(q_table, state, action, reward, next_state, alpha, gamma)\n",
        "        \n",
        "        # Transition to the next state\n",
        "        state = next_state\n",
        "        \n",
        "        # Check if game is over (adjust condition based on your game)\n",
        "        if t.is_game_over(new_game_state):\n",
        "            break\n",
        "    \n",
        "    # Optional: Decay epsilon over time to reduce exploration as training progresses\n",
        "    epsilon = max(0.01, epsilon * 0.995)\n",
        "\n",
        "print(\"Training completed!\")\n"
      ]
    },
    {
      "cell_type": "code",
      "execution_count": null,
      "metadata": {},
      "outputs": [],
      "source": [
        "def train(self):\n",
        "    for episode in range(self.num_episodes):\n",
        "    game_state = reset_game()  # Reset environment at the start of each episode\n",
        "    total_reward = 0\n",
        "    \n",
        "    for step in range(self.max_steps):\n",
        "        action = self.agent.act(game_state)  # Get action from the agent\n",
        "        next_state, reward, done = execute_action(action)  # Execute the action\n",
        "        \n",
        "        # Store the experience and update the model\n",
        "        self.store_experience(game_state, action, reward, next_state)\n",
        "        self.agent.model.update(game_state, action, reward, next_state)\n",
        "        \n",
        "        total_reward += reward\n",
        "        game_state = next_state\n",
        "        \n",
        "        if done:\n",
        "            break  # End episode if the game is over\n",
        "    \n",
        "    self.rewards.append(total_reward)  # Log reward for this episode\n",
        "    self.log_training_progress(episode)"
      ]
    },
    {
      "cell_type": "code",
      "execution_count": null,
      "metadata": {
        "id": "DnCfO5tVG0LJ"
      },
      "outputs": [],
      "source": [
        "def is_terminal_state(current_row_index, current_column_index):\n",
        "  \"\"\"\n",
        "  Define if we are in terminal state.\n",
        "\n",
        "  :param current_row_index \n",
        "  \"\"\"\n",
        "  #if the reward for this location is -1, then it is not a terminal state (i.e., it is a 'white square')\n",
        "  if rewards[current_row_index, current_column_index] == -1.:\n",
        "    return False\n",
        "  else:\n",
        "    return True\n",
        "\n",
        "#define a function that will choose a random, non-terminal starting location\n",
        "def get_starting_location():\n",
        "  #get a random row and column index\n",
        "  current_row_index = np.random.randint(Settings.ROWS)\n",
        "  current_column_index = np.random.randint(Settings.COLS)\n",
        "  #continue choosing random row and column indexes until a non-terminal state is identified\n",
        "  #(i.e., until the chosen state is a 'white square').\n",
        "  while is_terminal_state(current_row_index, current_column_index):\n",
        "    current_row_index = np.random.randint(Settings.ROWS)\n",
        "    current_column_index = np.random.randint(Settings.COLS)\n",
        "  return current_row_index, current_column_index\n",
        "\n",
        "#define an epsilon greedy algorithm that will choose which action to take next (i.e., where to move next)\n",
        "def get_next_action(current_row_index, current_column_index, epsilon):\n",
        "  #if a randomly chosen value between 0 and 1 is less than epsilon,\n",
        "  #then choose the most promising value from the Q-table for this state.\n",
        "  if np.random.random() < epsilon:\n",
        "    return np.argmax(q_values[current_row_index, current_column_index])\n",
        "  else: #choose a random action\n",
        "    return np.random.randint(4)\n",
        "\n",
        "#define a function that will get the next location based on the chosen action\n",
        "def get_next_location(current_row_index, current_column_index, action_index):\n",
        "  new_row_index = current_row_index\n",
        "  new_column_index = current_column_index\n",
        "  if actions[action_index] == 'up' and current_row_index > 0:\n",
        "    new_row_index -= 1\n",
        "  elif actions[action_index] == 'right' and current_column_index < Settings.COLS - 1:\n",
        "    new_column_index += 1\n",
        "  elif actions[action_index] == 'down' and current_row_index < Settings.ROWS - 1:\n",
        "    new_row_index += 1\n",
        "  elif actions[action_index] == 'left' and current_column_index > 0:\n",
        "    new_column_index -= 1\n",
        "  return new_row_index, new_column_index\n",
        "\n",
        "#Define a function that will get the shortest path between any location within the warehouse that\n",
        "#the robot is allowed to travel and the item packaging location.\n",
        "def get_shortest_path(start_row_index, start_column_index):\n",
        "  #return immediately if this is an invalid starting location\n",
        "  if is_terminal_state(start_row_index, start_column_index):\n",
        "    return []\n",
        "  else: #if this is a 'legal' starting location\n",
        "    current_row_index, current_column_index = start_row_index, start_column_index\n",
        "    shortest_path = []\n",
        "    shortest_path.append([current_row_index, current_column_index])\n",
        "    #continue moving along the path until we reach the goal (i.e., the item packaging location)\n",
        "    while not is_terminal_state(current_row_index, current_column_index):\n",
        "      #get the best action to take\n",
        "      action_index = get_next_action(current_row_index, current_column_index, 1.)\n",
        "      #move to the next location on the path, and add the new location to the list\n",
        "      current_row_index, current_column_index = get_next_location(current_row_index, current_column_index, action_index)\n",
        "      shortest_path.append([current_row_index, current_column_index])\n",
        "    return shortest_path"
      ]
    },
    {
      "cell_type": "markdown",
      "metadata": {
        "id": "pjl9niKEqONs"
      },
      "source": [
        "#### Train the AI Agent using Q-Learning"
      ]
    },
    {
      "cell_type": "code",
      "execution_count": null,
      "metadata": {
        "id": "3N5BB0m0JHIn"
      },
      "outputs": [],
      "source": [
        "#define training parameters\n",
        "epsilon = 0.9 #the percentage of time when we should take the best action (instead of a random action)\n",
        "discount_factor = 0.9 #discount factor for future rewards\n",
        "learning_rate = 0.9 #the rate at which the AI agent should learn\n",
        "\n",
        "#run through 1000 training episodes\n",
        "for episode in range(1000):\n",
        "  #get the starting location for this episode\n",
        "  row_index, column_index = get_starting_location()\n",
        "\n",
        "  #continue taking actions (i.e., moving) until we reach a terminal state\n",
        "  #(i.e., until we reach the item packaging area or crash into an item storage location)\n",
        "  while not is_terminal_state(row_index, column_index):\n",
        "    #choose which action to take (i.e., where to move next)\n",
        "    action_index = get_next_action(row_index, column_index, epsilon)\n",
        "\n",
        "    #perform the chosen action, and transition to the next state (i.e., move to the next location)\n",
        "    old_row_index, old_column_index = row_index, column_index #store the old row and column indexes\n",
        "    row_index, column_index = get_next_location(row_index, column_index, action_index)\n",
        "\n",
        "    #receive the reward for moving to the new state, and calculate the temporal difference\n",
        "    reward = rewards[row_index, column_index]\n",
        "    old_q_value = q_values[old_row_index, old_column_index, action_index]\n",
        "    temporal_difference = reward + (discount_factor * np.max(q_values[row_index, column_index])) - old_q_value\n",
        "\n",
        "    #update the Q-value for the previous state and action pair\n",
        "    new_q_value = old_q_value + (learning_rate * temporal_difference)\n",
        "    q_values[old_row_index, old_column_index, action_index] = new_q_value\n",
        "\n",
        "print('Training complete!')"
      ]
    },
    {
      "cell_type": "markdown",
      "metadata": {
        "id": "-JqQfjYdfyBh"
      },
      "source": [
        "## Get Shortest Paths\n",
        "Now that the AI agent has been fully trained, we can see what it has learned by displaying the shortest path between any location in the warehouse where the robot is allowed to travel and the item packaging area.\n"
      ]
    },
    {
      "cell_type": "code",
      "execution_count": null,
      "metadata": {
        "id": "F1YO3mj_oS2J"
      },
      "outputs": [],
      "source": [
        "#display a few shortest paths\n",
        "print(get_shortest_path(3, 9)) #starting at row 3, column 9\n",
        "print(get_shortest_path(5, 0)) #starting at row 5, column 0\n",
        "print(get_shortest_path(9, 5)) #starting at row 9, column 5"
      ]
    }
  ],
  "metadata": {
    "colab": {
      "provenance": []
    },
    "kernelspec": {
      "display_name": "Python 3",
      "name": "python3"
    },
    "language_info": {
      "codemirror_mode": {
        "name": "ipython",
        "version": 3
      },
      "file_extension": ".py",
      "mimetype": "text/x-python",
      "name": "python",
      "nbconvert_exporter": "python",
      "pygments_lexer": "ipython3",
      "version": "3.11.9"
    }
  },
  "nbformat": 4,
  "nbformat_minor": 0
}
