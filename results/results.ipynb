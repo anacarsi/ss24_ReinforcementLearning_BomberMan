{
 "cells": [
  {
   "cell_type": "code",
   "execution_count": 3,
   "metadata": {},
   "outputs": [],
   "source": [
    "import matplotlib.pyplot as plt\n",
    "import json"
   ]
  },
  {
   "cell_type": "code",
   "execution_count": 4,
   "metadata": {},
   "outputs": [
    {
     "name": "stdout",
     "output_type": "stream",
     "text": [
      "30.67\n"
     ]
    }
   ],
   "source": [
    "filename = \"2024-09-18 17-49-20.json\"\n",
    "with open(filename,\"r\") as readfile:\n",
    "    data = json.loads(readfile.read())\n",
    "data\n",
    "forth_score_per_round = data[\"by_agent\"][\"forth_agent\"][\"score\"] / data[\"by_agent\"][\"forth_agent\"][\"rounds\"]\n",
    "print(forth_score_per_round)\n",
    "rounds = data[\"by_round\"]\n",
    "\n",
    "for round in rounds:\n",
    "    rounds[round]"
   ]
  }
 ],
 "metadata": {
  "kernelspec": {
   "display_name": "torch",
   "language": "python",
   "name": "python3"
  },
  "language_info": {
   "codemirror_mode": {
    "name": "ipython",
    "version": 3
   },
   "file_extension": ".py",
   "mimetype": "text/x-python",
   "name": "python",
   "nbconvert_exporter": "python",
   "pygments_lexer": "ipython3",
   "version": "3.12.3"
  }
 },
 "nbformat": 4,
 "nbformat_minor": 2
}
